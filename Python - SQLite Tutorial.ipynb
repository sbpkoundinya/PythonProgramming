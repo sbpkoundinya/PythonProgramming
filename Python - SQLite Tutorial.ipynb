{
 "cells": [
  {
   "cell_type": "code",
   "execution_count": 11,
   "metadata": {},
   "outputs": [],
   "source": [
    "# import sqlite3 library\n",
    "import sqlite3"
   ]
  },
  {
   "cell_type": "code",
   "execution_count": 12,
   "metadata": {},
   "outputs": [],
   "source": [
    "# Create company database if it does not exist and connect to it\n",
    "connection = sqlite3.connect(\"company.db\")"
   ]
  },
  {
   "cell_type": "code",
   "execution_count": 13,
   "metadata": {},
   "outputs": [],
   "source": [
    "# SQL command to create employee table\n",
    "sql_command = \"\"\"\n",
    "CREATE TABLE employee (\n",
    "staff_number INTEGER PRIMARY KEY,\n",
    "fname VARCHAR(20),\n",
    "lname VARCHAR(30),\n",
    "gender CHAR(1),\n",
    "joining DATE,\n",
    "birth_date DATE);\"\"\""
   ]
  },
  {
   "cell_type": "code",
   "execution_count": 14,
   "metadata": {},
   "outputs": [
    {
     "data": {
      "text/plain": [
       "<sqlite3.Cursor at 0x203c40531f0>"
      ]
     },
     "execution_count": 14,
     "metadata": {},
     "output_type": "execute_result"
    }
   ],
   "source": [
    "# Cursor to execute SQL command\n",
    "cursor = connection.cursor()\n",
    "cursor.execute(sql_command)"
   ]
  },
  {
   "cell_type": "code",
   "execution_count": 15,
   "metadata": {},
   "outputs": [
    {
     "data": {
      "text/plain": [
       "<sqlite3.Cursor at 0x203c40531f0>"
      ]
     },
     "execution_count": 15,
     "metadata": {},
     "output_type": "execute_result"
    }
   ],
   "source": [
    "# SQL command to insert a record into employee table\n",
    "sql_command = \"\"\"\n",
    "INSERT INTO employee (staff_number, fname, lname, gender, birth_date)\n",
    "VALUES (NULL, \"Frank\", \"Schiller\", \"M\", \"1955-08-17\");\"\"\"\n",
    "\n",
    "# Execute the above SQL command using cursor\n",
    "cursor.execute(sql_command)"
   ]
  },
  {
   "cell_type": "code",
   "execution_count": 16,
   "metadata": {},
   "outputs": [],
   "source": [
    "# Commit the above changes to company database\n",
    "connection.commit()"
   ]
  },
  {
   "cell_type": "code",
   "execution_count": 19,
   "metadata": {},
   "outputs": [
    {
     "name": "stdout",
     "output_type": "stream",
     "text": [
      "EMPLOYEE DATA:\n",
      "(1, 'Frank', 'Schiller', 'M', None, '1955-08-17')\n"
     ]
    }
   ],
   "source": [
    "# Print data in employee table\n",
    "cursor.execute(\"SELECT * from employee\")\n",
    "print (\"EMPLOYEE DATA:\")\n",
    "result = cursor.fetchall()\n",
    "for r in result:\n",
    "    print (r)"
   ]
  },
  {
   "cell_type": "code",
   "execution_count": 20,
   "metadata": {},
   "outputs": [],
   "source": [
    "# Close connection\n",
    "connection.close()"
   ]
  }
 ],
 "metadata": {
  "kernelspec": {
   "display_name": "Python 3",
   "language": "python",
   "name": "python3"
  },
  "language_info": {
   "codemirror_mode": {
    "name": "ipython",
    "version": 3
   },
   "file_extension": ".py",
   "mimetype": "text/x-python",
   "name": "python",
   "nbconvert_exporter": "python",
   "pygments_lexer": "ipython3",
   "version": "3.7.4"
  }
 },
 "nbformat": 4,
 "nbformat_minor": 2
}
